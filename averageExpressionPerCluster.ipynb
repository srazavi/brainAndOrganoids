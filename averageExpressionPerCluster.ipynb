{
 "cells": [
  {
   "cell_type": "code",
   "execution_count": null,
   "metadata": {},
   "outputs": [],
   "source": [
    "import scanpy as sc\n",
    "import pandas as pd\n",
    "import numpy as np\n",
    "ad = sc.read_text(\"exprMatrix.tsv.gz\")\n",
    "meta = pd.read_csv(\"meta.tsv\", sep=\"\\t\")\n",
    "ad.var = meta"
   ]
  },
  {
   "cell_type": "code",
   "execution_count": 2,
   "metadata": {},
   "outputs": [
    {
     "name": "stdout",
     "output_type": "stream",
     "text": [
      "AnnData object with n_obs × n_vars = 16774 × 235121\n",
      "    var: 'V1', 'Cluster', 'Sample', 'Line', 'Protocol', 'Age', 'iPSCorhESC', 'Class', 'State', 'Type', 'Subtype'\n"
     ]
    }
   ],
   "source": [
    "meta = pd.read_csv(\"meta.tsv\", sep=\"\\t\")\n",
    "ad.var = meta\n",
    "print(ad)"
   ]
  },
  {
   "cell_type": "markdown",
   "metadata": {},
   "source": [
    "First, we find the list of cluster names:"
   ]
  },
  {
   "cell_type": "code",
   "execution_count": null,
   "metadata": {},
   "outputs": [],
   "source": [
    "clusterNameSet = set(ad.var['Cluster'])\n",
    "print('List of Cluster Names:')\n",
    "print(clusterNameSet)\n",
    "print(ad.obs.index)"
   ]
  },
  {
   "cell_type": "markdown",
   "metadata": {},
   "source": [
    "Second, we need a way to get the average expression value for a gene for all cells in a cluster:"
   ]
  },
  {
   "cell_type": "code",
   "execution_count": 20,
   "metadata": {},
   "outputs": [
    {
     "name": "stdout",
     "output_type": "stream",
     "text": [
      "1.06721\n"
     ]
    }
   ],
   "source": [
    "def getAvgExprForGeneInCluster(gene, cluster):\n",
    "    exprFrameForCluster = ad[ad.obs.index == gene, ad.var['Cluster'] == cluster].X\n",
    "    return exprFrameForCluster.mean() if not exprFrameForCluster.size == 0 else 0\n",
    "\n",
    "print(getAvgExprForGeneInCluster('SOX2|SOX2', 15))\n",
    "#print(ad[ad.obs.index == 'SOX2', ad.var['Cluster_name'] == 'CN3'].X.tolist())"
   ]
  },
  {
   "cell_type": "markdown",
   "metadata": {},
   "source": [
    "Third, we combine the average expression values for a gene for a cluster in a dataframe:"
   ]
  },
  {
   "cell_type": "code",
   "execution_count": 38,
   "metadata": {},
   "outputs": [
    {
     "name": "stdout",
     "output_type": "stream",
     "text": [
      "    AQP4|AQP4  SLC1A3|SLC1A3  CD44|CD44  NCAM1|NCAM1  CD24|CD24  FUT4|FUT4  \\\n",
      "1    0.000000       0.812414   0.122465     1.199391   1.417542   0.000000   \n",
      "2    0.000000       0.022298   0.008054     0.864200   2.029322   0.000000   \n",
      "3    0.000000       0.039525   0.017395     0.395865   1.641140   0.000000   \n",
      "4    0.000000       0.327585   0.008680     0.250124   0.584714   0.000000   \n",
      "5    0.000000       0.040559   0.014556     0.094008   0.511430   0.000150   \n",
      "6    0.000000       0.000000   0.017995     0.221289   0.868255   0.000000   \n",
      "7    0.000000       0.068045   0.011062     0.170758   0.911565   0.000000   \n",
      "8    0.000000       0.030339   0.000758     0.419827   1.020794   0.000000   \n",
      "9    0.000000       0.023159   0.019347     0.301115   1.552736   0.000697   \n",
      "10   0.071869       0.639734   0.000000     0.199962   0.504025   0.000000   \n",
      "11   0.000000       0.338309   0.054068     0.273511   0.454990   0.000595   \n",
      "12   0.000000       0.086429   0.021728     0.149900   1.699158   0.000000   \n",
      "13   0.000202       0.031991   0.007062     0.184734   1.221136   0.000000   \n",
      "14   0.000000       0.128952   0.001307     0.222719   0.543587   0.000000   \n",
      "15   0.000000       0.087439   0.002829     0.102019   1.180709   0.000000   \n",
      "16   0.000000       0.133846   0.004429     0.452509   1.057006   0.000000   \n",
      "17   0.000000       0.349677   0.093092     0.249477   0.980683   0.000000   \n",
      "18   0.000000       0.268052   0.000000     0.000000   0.641235   0.000000   \n",
      "19   0.000000       0.105089   0.004385     0.220799   0.699911   0.000000   \n",
      "20   0.000000       0.014668   0.000700     0.722103   1.051809   0.000000   \n",
      "21   0.000000       0.130823   0.009245     0.251938   0.458172   0.000000   \n",
      "22   0.000000       0.032710   0.005275     0.489667   1.614003   0.000000   \n",
      "23   0.003975       0.051037   0.000315     0.450863   1.820922   0.000000   \n",
      "24   0.000000       0.140122   0.000934     0.441481   0.829580   0.000000   \n",
      "25   0.000000       0.084586   0.138034     0.113817   0.504071   0.000000   \n",
      "26   0.000000       0.068693   0.001681     0.764866   1.214324   0.000000   \n",
      "27   0.000000       0.135893   0.007276     0.219589   1.095799   0.000000   \n",
      "28   0.002608       0.988103   0.118885     0.212538   0.566739   0.000000   \n",
      "29   0.000000       0.039502   0.004760     0.142929   0.571253   0.000000   \n",
      "30   0.000000       0.102014   0.004326     0.136018   1.349185   0.000000   \n",
      "31   0.003818       0.263881   0.000000     0.327528   0.947766   0.000000   \n",
      "32   0.000000       0.018962   0.004062     0.558950   1.977705   0.000000   \n",
      "33   0.000053       0.055163   0.025938     0.079265   0.921410   0.001777   \n",
      "34   0.000164       0.037333   0.002635     0.696647   1.356610   0.000000   \n",
      "35   0.000000       0.052256   0.006202     0.118927   0.695636   0.000000   \n",
      "36   0.000000       0.019323   0.010509     0.188351   0.883002   0.000000   \n",
      "37   0.000355       0.024204   0.001765     0.328206   1.295566   0.000000   \n",
      "38   0.000818       0.150252   0.001179     0.238048   0.415042   0.000000   \n",
      "39   0.000000       0.060539   0.006817     0.221259   1.245409   0.000030   \n",
      "40   0.000000       0.417755   0.007473     0.380140   0.577791   0.000000   \n",
      "41   0.000000       0.053246   0.031591     0.082099   1.124313   0.002800   \n",
      "\n",
      "    CXCR4|CXCR4  FOXO4|FOXO4  PDGFRA|PDGFRA  TFRC|TFRC  TFRC|TFRC  \\\n",
      "1      0.290619     0.008515       0.060675   0.387172   0.387172   \n",
      "2      0.197214     0.004228       0.010976   0.080505   0.080505   \n",
      "3      0.259354     0.006308       0.025888   0.074902   0.074902   \n",
      "4      0.303037     0.003311       0.001267   0.075250   0.075250   \n",
      "5      0.236968     0.005738       0.002787   0.075975   0.075975   \n",
      "6      0.159116     0.000000       0.000000   0.070890   0.070890   \n",
      "7      0.473494     0.003301       0.002282   0.089028   0.089028   \n",
      "8      0.016613     0.004403       0.000000   0.043693   0.043693   \n",
      "9      0.312666     0.004686       0.020780   0.071859   0.071859   \n",
      "10     0.383662     0.000000       0.017951   0.073324   0.073324   \n",
      "11     0.424435     0.002444       0.001359   0.098058   0.098058   \n",
      "12     0.605708     0.003551       0.008104   0.074909   0.074909   \n",
      "13     0.154264     0.004395       0.002906   0.047841   0.047841   \n",
      "14     0.166695     0.000171       0.000000   0.047842   0.047842   \n",
      "15     0.305550     0.003196       0.001333   0.063882   0.063882   \n",
      "16     0.086035     0.003641       0.000492   0.076215   0.076215   \n",
      "17     0.758800     0.005060       0.005505   0.090995   0.090995   \n",
      "18     0.000000     0.000000       0.000000   0.807278   0.807278   \n",
      "19     0.105678     0.001653       0.000465   0.050729   0.050729   \n",
      "20     0.067484     0.000000       0.000837   0.050048   0.050048   \n",
      "21     0.213056     0.001780       0.005657   0.125634   0.125634   \n",
      "22     0.137067     0.001722       0.003840   0.051203   0.051203   \n",
      "23     0.192426     0.000000       0.012744   0.030121   0.030121   \n",
      "24     0.155750     0.001604       0.000000   0.057200   0.057200   \n",
      "25     0.336350     0.007123       0.024459   0.105495   0.105495   \n",
      "26     0.039694     0.003595       0.000499   0.070627   0.070627   \n",
      "27     0.407574     0.003791       0.002672   0.062819   0.062819   \n",
      "28     0.703258     0.002872       0.005403   0.098225   0.098225   \n",
      "29     0.176589     0.004039       0.001401   0.073490   0.073490   \n",
      "30     0.465479     0.007195       0.002597   0.072460   0.072460   \n",
      "31     0.331776     0.000000       0.039610   0.053966   0.053966   \n",
      "32     0.233591     0.004985       0.041325   0.062654   0.062654   \n",
      "33     0.303060     0.004460       0.000448   0.075915   0.075915   \n",
      "34     0.029076     0.000431       0.000047   0.076417   0.076417   \n",
      "35     0.226168     0.002796       0.001896   0.064311   0.064311   \n",
      "36     0.220119     0.002517       0.011010   0.068085   0.068085   \n",
      "37     0.096127     0.001666       0.003699   0.038217   0.038217   \n",
      "38     0.060789     0.000000       0.000000   0.049975   0.049975   \n",
      "39     0.319289     0.002935       0.005271   0.059524   0.059524   \n",
      "40     0.260118     0.000486       0.000921   0.079638   0.079638   \n",
      "41     0.398356     0.004086       0.001401   0.081929   0.081929   \n",
      "\n",
      "    PROM1|PROM1  NKX2-2|NKX2-2  \n",
      "1      0.119662       0.000000  \n",
      "2      0.008195       0.003754  \n",
      "3      0.010830       0.000000  \n",
      "4      0.032977       0.000093  \n",
      "5      0.016321       0.000121  \n",
      "6      0.014677       0.000000  \n",
      "7      0.019957       0.000126  \n",
      "8      0.002964       0.000000  \n",
      "9      0.014920       0.000000  \n",
      "10     0.048164       0.000000  \n",
      "11     0.009195       0.000000  \n",
      "12     0.102891       0.000000  \n",
      "13     0.016900       0.000000  \n",
      "14     0.036811       0.000389  \n",
      "15     0.055166       0.000000  \n",
      "16     0.012092       0.000000  \n",
      "17     0.035176       0.000000  \n",
      "18     0.000000       0.000000  \n",
      "19     0.018494       0.000000  \n",
      "20     0.002058       0.000000  \n",
      "21     0.036438       0.000000  \n",
      "22     0.007303       0.000656  \n",
      "23     0.012668       0.000000  \n",
      "24     0.034482       0.000106  \n",
      "25     0.037175       0.000000  \n",
      "26     0.005955       0.000000  \n",
      "27     0.063748       0.000000  \n",
      "28     0.049764       0.000000  \n",
      "29     0.025286       0.000000  \n",
      "30     0.094478       0.000213  \n",
      "31     0.075951       0.000000  \n",
      "32     0.008221       0.001900  \n",
      "33     0.032517       0.000000  \n",
      "34     0.001339       0.000000  \n",
      "35     0.019936       0.000000  \n",
      "36     0.016170       0.000171  \n",
      "37     0.006119       0.000000  \n",
      "38     0.012824       0.000000  \n",
      "39     0.041188       0.000000  \n",
      "40     0.048478       0.000000  \n",
      "41     0.057371       0.000000  \n"
     ]
    }
   ],
   "source": [
    "geneList = ['AQP4', 'SLC1A3', 'HepaCAM1', 'CD44', 'NCAM1', 'CD24', 'FUT4', \\\n",
    "               'CXCR4', 'FOXO4', 'PDGFRA', 'ITGB2', 'TFRC', 'PROM1', 'NKX2-2']\n",
    "\n",
    "# gene list corrected by hand using getGeneNameVariants\n",
    "correctedGeneList = ['AQP4|AQP4', 'SLC1A3|SLC1A3', 'CD44|CD44', 'NCAM1|NCAM1', 'CD24|CD24', \\\n",
    "                     'FUT4|FUT4', 'CXCR4|CXCR4', 'FOXO4|FOXO4', 'PDGFRA|PDGFRA', 'TFRC|TFRC', \\\n",
    "                     'PROM1|PROM1', 'NKX2-2|NKX2-2']\n",
    "\n",
    "dataFrame = pd.DataFrame(np.array([[getAvgExprForGeneInCluster(gene, cluster) \\\n",
    "                                    for gene in correctedGeneList] for cluster in clusterNameSet]), \\\n",
    "                                    columns = correctedGeneList, index=clusterNameSet)\n",
    "\n",
    "print(dataFrame)\n",
    "dataFrame.to_csv('averageExpressionPerCluster.csv')"
   ]
  },
  {
   "cell_type": "markdown",
   "metadata": {},
   "source": [
    "The following are tools to help with gene name selection for the list of target genes:\n",
    "\n",
    "The function below returns a boolean, to indicate whether a gene is present in the observations or not."
   ]
  },
  {
   "cell_type": "code",
   "execution_count": 17,
   "metadata": {},
   "outputs": [
    {
     "name": "stdout",
     "output_type": "stream",
     "text": [
      "False\n"
     ]
    }
   ],
   "source": [
    "def searchGene(gene):\n",
    "    return gene in ad.obs.index\n",
    "\n",
    "print(searchGene('SCL1A3'))"
   ]
  },
  {
   "cell_type": "markdown",
   "metadata": {},
   "source": [
    "In the function below, given a list of gene names, the ones that are not present in the observations will be returned."
   ]
  },
  {
   "cell_type": "code",
   "execution_count": 13,
   "metadata": {},
   "outputs": [
    {
     "name": "stdout",
     "output_type": "stream",
     "text": [
      "['AQP4', 'SCL1A3', 'HepaCAM1', 'CD44', 'NCAM1', 'CD24', 'FUT4', 'CXCR4', 'FOXO4', 'PDGFRA', 'ITGB2', 'TFRC', 'PROM1', 'NKX2-2']\n"
     ]
    }
   ],
   "source": [
    "def getAbsentGenes(geneList):\n",
    "    absentGeneList = []\n",
    "    for gene in geneList:\n",
    "        if gene not in ad.obs.index:\n",
    "            absentGeneList.append(gene)\n",
    "            \n",
    "    return absentGeneList\n",
    "\n",
    "print(getAbsentGenes(geneList))"
   ]
  },
  {
   "cell_type": "markdown",
   "metadata": {},
   "source": [
    "In the function below, a list of tuples is returned where genes in the target list are substrings of the list of genes present in the dataset. Exact matches are excluded. No attempt is made to filter out gene names that are substrings of one another without being related."
   ]
  },
  {
   "cell_type": "code",
   "execution_count": 37,
   "metadata": {},
   "outputs": [
    {
     "name": "stdout",
     "output_type": "stream",
     "text": [
      "('AQP4', 'AQP4|AQP4')\n",
      "('AQP4', 'AQP4-AS1|AQP4-AS1')\n",
      "('SLC1A3', 'SLC1A3|SLC1A3')\n",
      "('HepaCAM1', 'NONE')\n",
      "('CD44', 'CD44|CD44')\n",
      "('NCAM1', 'NCAM1|NCAM1')\n",
      "('CD24', 'CD24|CD24')\n",
      "('CD24', 'CD248|CD248')\n",
      "('CD24', 'CD247|CD247')\n",
      "('FUT4', 'FUT4|FUT4')\n",
      "('CXCR4', 'CXCR4|CXCR4')\n",
      "('FOXO4', 'FOXO4|FOXO4')\n",
      "('PDGFRA', 'PDGFRA|PDGFRA')\n",
      "('ITGB2', 'NONE')\n",
      "('TFRC', 'TFRC|TFRC')\n",
      "('PROM1', 'PROM1|PROM1')\n",
      "('NKX2-2', 'NKX2-2|NKX2-2')\n"
     ]
    }
   ],
   "source": [
    "def getGeneNameVariants(geneList):\n",
    "    geneVariantList = []\n",
    "    for targetGene in geneList:\n",
    "        for variable in ad.obs.index:\n",
    "            if (targetGene.lower() in variable.lower() \\\n",
    "                or variable.lower() in targetGene.lower()) \\\n",
    "            and not targetGene == variable :\n",
    "                geneVariantList.append((targetGene, variable))\n",
    "                \n",
    "        if targetGene not in [v[0] for v in geneVariantList]:\n",
    "            geneVariantList.append((targetGene, 'NONE'))\n",
    "                \n",
    "    return geneVariantList\n",
    "\n",
    "for pair in getGeneNameVariants(geneList):\n",
    "    print(pair)\n",
    "    \n",
    "#print(getGeneNameVariants(geneList))"
   ]
  }
 ],
 "metadata": {
  "kernelspec": {
   "display_name": "Python 3",
   "language": "python",
   "name": "python3"
  },
  "language_info": {
   "codemirror_mode": {
    "name": "ipython",
    "version": 3
   },
   "file_extension": ".py",
   "mimetype": "text/x-python",
   "name": "python",
   "nbconvert_exporter": "python",
   "pygments_lexer": "ipython3",
   "version": "3.7.6"
  }
 },
 "nbformat": 4,
 "nbformat_minor": 4
}
