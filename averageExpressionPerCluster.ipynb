{
 "cells": [
  {
   "cell_type": "code",
   "execution_count": 2,
   "metadata": {},
   "outputs": [],
   "source": [
    "import scanpy as sc\n",
    "import pandas as pd\n",
    "import numpy as np\n",
    "ad = sc.read_text(\"exprMatrix.tsv.gz\")\n",
    "meta = pd.read_csv(\"meta.tsv\", sep=\"\\t\")\n",
    "ad.var = meta"
   ]
  },
  {
   "cell_type": "code",
   "execution_count": 3,
   "metadata": {},
   "outputs": [
    {
     "name": "stdout",
     "output_type": "stream",
     "text": [
      "AnnData object with n_obs × n_vars = 2000 × 190022\n",
      "    var: 'cellId', 'nCount_RNA', 'nFeature_RNA', 'Cluster', 'Cluster_name', 'Annotation', 'Dataset', 'Protocol', 'Age'\n"
     ]
    }
   ],
   "source": [
    "print(ad)"
   ]
  },
  {
   "cell_type": "markdown",
   "metadata": {},
   "source": [
    "First, we find the list of cluster names:"
   ]
  },
  {
   "cell_type": "code",
   "execution_count": 4,
   "metadata": {},
   "outputs": [
    {
     "name": "stdout",
     "output_type": "stream",
     "text": [
      "List of Cluster Names:\n",
      "{'IN', 'UPRC2', 'NEC4', 'GPC', 'CN3', 'CBC', 'OPC/OL', 'PGC2', 'CN2', 'NEC3', 'AS2', 'CN1', 'AS3', 'NEC2', 'NEC1', 'PGC1', 'AS1', 'Neuron', 'Inter', 'CN4', 'UPRC1', 'CN5', 'BRC', 'ME'}\n"
     ]
    }
   ],
   "source": [
    "clusterNameSet = set(ad.var['Cluster_name'])\n",
    "print('List of Cluster Names:')\n",
    "print(clusterNameSet)"
   ]
  },
  {
   "cell_type": "markdown",
   "metadata": {},
   "source": [
    "Second, we need a way to get the average expression value for a gene for all cells in a cluster:"
   ]
  },
  {
   "cell_type": "code",
   "execution_count": null,
   "metadata": {},
   "outputs": [],
   "source": [
    "def getAvgExprForGeneInCluster(gene, cluster):\n",
    "    exprFrameForCluster = ad[ad.obs.index == gene, ad.var['Cluster_name'] == cluster].X\n",
    "    return exprFrameForCluster.mean() if not exprFrameForCluster.size == 0 else 0\n",
    "\n",
    "print(getAvgExprForGeneInCluster('SOX2','CN3'))\n",
    "#print(ad[ad.obs.index == 'SOX2', ad.var['Cluster_name'] == 'CN3'].X.tolist())"
   ]
  },
  {
   "cell_type": "markdown",
   "metadata": {},
   "source": [
    "Third, we combine the average expression values for a gene for a cluster in a dataframe:"
   ]
  },
  {
   "cell_type": "code",
   "execution_count": 9,
   "metadata": {},
   "outputs": [
    {
     "name": "stdout",
     "output_type": "stream",
     "text": [
      "            AQP4  SCL1A3  HepaCAM1      CD44     NCAM1  CD24  FUT4     CXCR4  \\\n",
      "IN      0.007937     0.0       0.0  0.042097  0.708314   0.0   0.0  0.296511   \n",
      "UPRC2  -0.009971     0.0       0.0  0.373038  0.137948   0.0   0.0  0.312741   \n",
      "NEC4    0.028726     0.0       0.0  0.228243  0.318951   0.0   0.0  0.959562   \n",
      "GPC     0.025089     0.0       0.0  0.283512  0.213949   0.0   0.0  1.072408   \n",
      "CN3    -0.001287     0.0       0.0  0.018976  0.795232   0.0   0.0  0.171675   \n",
      "CBC     0.007456     0.0       0.0  0.086671  0.081521   0.0   0.0  0.230967   \n",
      "OPC/OL  0.026053     0.0       0.0  0.167342  0.301977   0.0   0.0  0.896397   \n",
      "PGC2   -0.002075     0.0       0.0  0.291515  0.158913   0.0   0.0  0.689419   \n",
      "CN2     0.006827     0.0       0.0  0.012715  0.964154   0.0   0.0  0.103462   \n",
      "NEC3    0.039304     0.0       0.0  0.368616  0.260555   0.0   0.0  0.918967   \n",
      "AS2     0.057916     0.0       0.0  0.485789  0.172848   0.0   0.0  1.033635   \n",
      "CN1     0.000362     0.0       0.0  0.012291  0.875221   0.0   0.0  0.140903   \n",
      "AS3     0.076385     0.0       0.0  0.312510  0.266748   0.0   0.0  1.016433   \n",
      "NEC2    0.010201     0.0       0.0  0.212694  0.450097   0.0   0.0  1.258110   \n",
      "NEC1    0.035137     0.0       0.0  0.342560  0.463413   0.0   0.0  1.173386   \n",
      "PGC1    0.019188     0.0       0.0  0.250737  0.130685   0.0   0.0  0.578163   \n",
      "AS1     0.183532     0.0       0.0  0.500531  0.240145   0.0   0.0  1.327383   \n",
      "Neuron -0.001375     0.0       0.0  0.058963  0.612176   0.0   0.0  0.375467   \n",
      "Inter   0.017490     0.0       0.0  0.153802  0.524793   0.0   0.0  0.563521   \n",
      "CN4     0.003470     0.0       0.0  0.038584  0.680993   0.0   0.0  0.325383   \n",
      "UPRC1   0.004300     0.0       0.0  0.087435  0.330996   0.0   0.0  0.303875   \n",
      "CN5     0.008265     0.0       0.0  0.059649  0.437060   0.0   0.0  0.232002   \n",
      "BRC     0.018997     0.0       0.0  0.217212  0.121197   0.0   0.0  0.432291   \n",
      "ME      0.007709     0.0       0.0  0.129248  0.381037   0.0   0.0  0.406132   \n",
      "\n",
      "        FOXO4    PDGFRA  ITGB2  TFRC  PROM1  NKX2-2  \n",
      "IN        0.0  0.013033    0.0   0.0    0.0     0.0  \n",
      "UPRC2     0.0 -0.005662    0.0   0.0    0.0     0.0  \n",
      "NEC4      0.0  0.024130    0.0   0.0    0.0     0.0  \n",
      "GPC       0.0  0.005716    0.0   0.0    0.0     0.0  \n",
      "CN3       0.0  0.006115    0.0   0.0    0.0     0.0  \n",
      "CBC       0.0  0.069172    0.0   0.0    0.0     0.0  \n",
      "OPC/OL    0.0  0.017932    0.0   0.0    0.0     0.0  \n",
      "PGC2      0.0  0.045149    0.0   0.0    0.0     0.0  \n",
      "CN2       0.0  0.003218    0.0   0.0    0.0     0.0  \n",
      "NEC3      0.0  0.025704    0.0   0.0    0.0     0.0  \n",
      "AS2       0.0  0.021274    0.0   0.0    0.0     0.0  \n",
      "CN1       0.0  0.002218    0.0   0.0    0.0     0.0  \n",
      "AS3       0.0  0.020247    0.0   0.0    0.0     0.0  \n",
      "NEC2      0.0  0.010342    0.0   0.0    0.0     0.0  \n",
      "NEC1      0.0  0.025278    0.0   0.0    0.0     0.0  \n",
      "PGC1      0.0  0.062357    0.0   0.0    0.0     0.0  \n",
      "AS1       0.0  0.013351    0.0   0.0    0.0     0.0  \n",
      "Neuron    0.0  0.014402    0.0   0.0    0.0     0.0  \n",
      "Inter     0.0  0.018802    0.0   0.0    0.0     0.0  \n",
      "CN4       0.0  0.011964    0.0   0.0    0.0     0.0  \n",
      "UPRC1     0.0  0.008730    0.0   0.0    0.0     0.0  \n",
      "CN5       0.0  0.005640    0.0   0.0    0.0     0.0  \n",
      "BRC       0.0  0.032301    0.0   0.0    0.0     0.0  \n",
      "ME        0.0 -0.006199    0.0   0.0    0.0     0.0  \n"
     ]
    }
   ],
   "source": [
    "geneList = ['AQP4', 'SCL1A3', 'HepaCAM1', 'CD44', 'NCAM1', 'CD24', 'FUT4', \\\n",
    "               'CXCR4', 'FOXO4', 'PDGFRA', 'ITGB2', 'TFRC', 'PROM1', 'NKX2-2']\n",
    "\n",
    "dataFrame = pd.DataFrame(np.array([[getAvgExprForGeneInCluster(gene, cluster) \\\n",
    "                                    for gene in geneList] for cluster in clusterNameSet]), \\\n",
    "                                    columns = geneList, index=clusterNameSet)\n",
    "\n",
    "print(dataFrame)\n",
    "#dataFrame.to_csv('averageExpressionPerCluster.csv')"
   ]
  },
  {
   "cell_type": "markdown",
   "metadata": {},
   "source": [
    "The function below returns a boolean, to indicate whether a gene is present in the observations or not."
   ]
  },
  {
   "cell_type": "code",
   "execution_count": 12,
   "metadata": {},
   "outputs": [
    {
     "name": "stdout",
     "output_type": "stream",
     "text": [
      "False\n"
     ]
    }
   ],
   "source": [
    "def searchGene(gene):\n",
    "    return gene in ad.obs.index\n",
    "\n",
    "print(searchGene('SCL1A3'))"
   ]
  },
  {
   "cell_type": "markdown",
   "metadata": {},
   "source": [
    "Below, given a list of genes, the ones that are not present in the observations will be returned."
   ]
  },
  {
   "cell_type": "code",
   "execution_count": 13,
   "metadata": {},
   "outputs": [
    {
     "name": "stdout",
     "output_type": "stream",
     "text": [
      "['SCL1A3', 'HepaCAM1', 'CD24', 'FUT4', 'FOXO4', 'ITGB2', 'TFRC', 'PROM1', 'NKX2-2']\n"
     ]
    }
   ],
   "source": [
    "def getAbsentGenes(geneList):\n",
    "    absentGeneList = []\n",
    "    for gene in geneList:\n",
    "        if gene not in ad.obs.index:\n",
    "            absentGeneList.append(gene)\n",
    "            \n",
    "    return absentGeneList\n",
    "\n",
    "print(getAbsentGenes(geneList))"
   ]
  }
 ],
 "metadata": {
  "kernelspec": {
   "display_name": "Python 3",
   "language": "python",
   "name": "python3"
  },
  "language_info": {
   "codemirror_mode": {
    "name": "ipython",
    "version": 3
   },
   "file_extension": ".py",
   "mimetype": "text/x-python",
   "name": "python",
   "nbconvert_exporter": "python",
   "pygments_lexer": "ipython3",
   "version": "3.7.6"
  }
 },
 "nbformat": 4,
 "nbformat_minor": 4
}
