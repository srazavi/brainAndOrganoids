{
 "cells": [
  {
   "cell_type": "code",
   "execution_count": 1,
   "metadata": {},
   "outputs": [],
   "source": [
    "import scanpy as sc\n",
    "import pandas as pd\n",
    "import numpy as np\n",
    "ad = sc.read_text(\"exprMatrix.tsv.gz\")"
   ]
  },
  {
   "cell_type": "code",
   "execution_count": 2,
   "metadata": {},
   "outputs": [
    {
     "name": "stdout",
     "output_type": "stream",
     "text": [
      "AnnData object with n_obs × n_vars = 16774 × 235121\n",
      "    var: 'V1', 'Cluster', 'Sample', 'Line', 'Protocol', 'Age', 'iPSCorhESC', 'Class', 'State', 'Type', 'Subtype'\n"
     ]
    }
   ],
   "source": [
    "meta = pd.read_csv(\"meta.tsv\", sep=\"\\t\")\n",
    "ad.var = meta\n",
    "print(ad)"
   ]
  },
  {
   "cell_type": "markdown",
   "metadata": {},
   "source": [
    "First, we find the list of cluster names:"
   ]
  },
  {
   "cell_type": "code",
   "execution_count": 5,
   "metadata": {},
   "outputs": [
    {
     "name": "stdout",
     "output_type": "stream",
     "text": [
      "List of Subtype Names:\n",
      "{'DeepLayer', 'Astrocyte', 'panNeuron', 'lowquality', 'Interneuron', 'glycolyticRG', 'glycolyticneurons', 'hindbrainAstrocyte', 'Unknown', 'hindbrainRG', 'earlyRG', 'Newborn', 'UpperLayer', 'Outlier', 'panRG', 'MatureIPC'}\n"
     ]
    }
   ],
   "source": [
    "subtypeNameSet = set(ad.var['Subtype'])\n",
    "print('List of Subtype Names:')\n",
    "print(subtypeNameSet)\n",
    "#print(ad.obs.index)"
   ]
  },
  {
   "cell_type": "markdown",
   "metadata": {},
   "source": [
    "Second, we need a way to get the average expression value for a gene for all cells in a subtype:"
   ]
  },
  {
   "cell_type": "code",
   "execution_count": 12,
   "metadata": {},
   "outputs": [],
   "source": [
    "def getAvgExprForGeneInSubtype(gene, subtype):\n",
    "    exprFrameForSubtype = ad[ad.obs.index == gene, ad.var['Subtype'] == subtype].X\n",
    "    return exprFrameForSubtype.mean()\n",
    "\n",
    "#print(getAvgExprForGeneInSubtype('SOX2|SOX2', 'glycolyticRG'))\n",
    "#print(ad[ad.obs.index == 'SOX2|SOX2', ad.var['Subtype'] == 'glycolyticRG'].X.tolist())"
   ]
  },
  {
   "cell_type": "markdown",
   "metadata": {},
   "source": [
    "Third, we combine the average expression values for a gene for a subtype in a dataframe:"
   ]
  },
  {
   "cell_type": "code",
   "execution_count": 13,
   "metadata": {},
   "outputs": [
    {
     "name": "stdout",
     "output_type": "stream",
     "text": [
      "                    AQP4|AQP4  SLC1A3|SLC1A3  CD44|CD44  NCAM1|NCAM1  \\\n",
      "DeepLayer            0.000135       0.050407   0.002495     0.777922   \n",
      "Astrocyte            0.000595       0.173420   0.051498     0.238672   \n",
      "panNeuron            0.000039       0.025129   0.003257     0.548654   \n",
      "lowquality           0.000000       0.077205   0.013084     0.099289   \n",
      "Interneuron          0.003072       0.039280   0.000000     0.345889   \n",
      "glycolyticRG         0.000000       0.145575   0.019530     0.248365   \n",
      "glycolyticneurons    0.000183       0.041714   0.005226     0.220222   \n",
      "hindbrainAstrocyte   0.000000       0.070035   0.077094     0.136538   \n",
      "Unknown              0.006943       0.059387   0.000000     0.630887   \n",
      "hindbrainRG          0.000000       0.031407   0.009649     0.188841   \n",
      "earlyRG              0.000000       0.168591   0.008262     0.159442   \n",
      "Newborn              0.000000       0.075730   0.007131     0.527963   \n",
      "UpperLayer           0.000054       0.040705   0.002923     0.652595   \n",
      "Outlier              0.047647       0.498505   0.000000     0.242264   \n",
      "panRG                0.000020       0.130984   0.011902     0.188903   \n",
      "MatureIPC            0.000000       0.059478   0.006101     0.290749   \n",
      "\n",
      "                    CD24|CD24  FUT4|FUT4  CXCR4|CXCR4  FOXO4|FOXO4  \\\n",
      "DeepLayer            1.237209   0.000000     0.035634     0.003038   \n",
      "Astrocyte            0.490656   0.000000     0.258975     0.000450   \n",
      "panNeuron            1.399156   0.000000     0.122385     0.002600   \n",
      "lowquality           0.967875   0.000801     0.306350     0.003111   \n",
      "Interneuron          1.817122   0.000000     0.263539     0.000000   \n",
      "glycolyticRG         0.865281   0.000198     0.374170     0.003758   \n",
      "glycolyticneurons    1.257146   0.000000     0.157928     0.003393   \n",
      "hindbrainAstrocyte   0.527458   0.000000     0.302359     0.006294   \n",
      "Unknown              1.837212   0.000000     0.100700     0.000000   \n",
      "hindbrainRG          0.906252   0.000000     0.233869     0.003812   \n",
      "earlyRG              0.584183   0.000000     0.303190     0.001440   \n",
      "Newborn              1.724042   0.000000     0.183527     0.004809   \n",
      "UpperLayer           1.332960   0.000000     0.035266     0.000809   \n",
      "Outlier              0.693228   0.000000     0.367838     0.000000   \n",
      "panRG                0.927233   0.000198     0.327253     0.003732   \n",
      "MatureIPC            1.192069   0.000000     0.077098     0.002120   \n",
      "\n",
      "                    PDGFRA|PDGFRA  TFRC|TFRC  PROM1|PROM1  NKX2-2|NKX2-2  \n",
      "DeepLayer                0.000558   0.068412     0.005385       0.000000  \n",
      "Astrocyte                0.005774   0.118920     0.035562       0.000000  \n",
      "panNeuron                0.005177   0.057351     0.005684       0.001046  \n",
      "lowquality               0.001133   0.069157     0.038086       0.000018  \n",
      "Interneuron              0.015704   0.024020     0.012361       0.000000  \n",
      "glycolyticRG             0.005571   0.089375     0.017068       0.000072  \n",
      "glycolyticneurons        0.003431   0.042496     0.015243       0.000000  \n",
      "hindbrainAstrocyte       0.016022   0.089255     0.027167       0.000000  \n",
      "Unknown                  0.008076   0.043480     0.005412       0.000000  \n",
      "hindbrainRG              0.010760   0.067987     0.019164       0.000156  \n",
      "earlyRG                  0.001867   0.045426     0.025806       0.000000  \n",
      "Newborn                  0.033407   0.065785     0.012567       0.000424  \n",
      "UpperLayer               0.000267   0.073135     0.001948       0.000000  \n",
      "Outlier                  0.025983   0.063215     0.059396       0.000000  \n",
      "panRG                    0.002630   0.069030     0.046828       0.000075  \n",
      "MatureIPC                0.003222   0.064055     0.010187       0.000000  \n"
     ]
    }
   ],
   "source": [
    "geneList = ['AQP4', 'SLC1A3', 'HepaCAM1', 'CD44', 'NCAM1', 'CD24', 'FUT4', \\\n",
    "               'CXCR4', 'FOXO4', 'PDGFRA', 'ITGB2', 'TFRC', 'PROM1', 'NKX2-2']\n",
    "\n",
    "# gene list corrected by hand using getGeneNameVariantList\n",
    "correctedGeneList = ['AQP4|AQP4', 'SLC1A3|SLC1A3', 'CD44|CD44', 'NCAM1|NCAM1', 'CD24|CD24', \\\n",
    "                     'FUT4|FUT4', 'CXCR4|CXCR4', 'FOXO4|FOXO4', 'PDGFRA|PDGFRA', 'TFRC|TFRC', \\\n",
    "                     'PROM1|PROM1', 'NKX2-2|NKX2-2']\n",
    "\n",
    "dataFrame = pd.DataFrame(np.array([[getAvgExprForGeneInSubtype(gene, subtype) \\\n",
    "                                    for gene in correctedGeneList] for subtype in subtypeNameSet]), \\\n",
    "                                    columns = correctedGeneList, index=subtypeNameSet)\n",
    "\n",
    "print(dataFrame)\n",
    "dataFrame.to_csv('averageExpressionPerCluster.csv')"
   ]
  },
  {
   "cell_type": "markdown",
   "metadata": {},
   "source": [
    "The following are tools to help with gene name selection for the list of target genes:\n",
    "\n",
    "The function below returns a list of variants of a gene name found in the dataset. It checks for substrings both ways, in a case insensitive way. One tuple with a match of NONE is returned in the list if no match is found. No attempt is made to filter out gene names that are substrings of one another without being related."
   ]
  },
  {
   "cell_type": "code",
   "execution_count": 14,
   "metadata": {},
   "outputs": [
    {
     "name": "stdout",
     "output_type": "stream",
     "text": [
      "[('HepaCAM1', 'NONE')]\n",
      "[('HepaCAM', 'HEPACAM|HEPACAM')]\n"
     ]
    }
   ],
   "source": [
    "#dataset at https://cells.ucsc.edu/?ds=organoidreportcard contains gene names\n",
    "#in the form GENENAME|GENENAME and makes the comparison unhelpful\n",
    "#when searching for the variable as a substring in the target gene.\n",
    "def getGeneVariantList(targetGene):\n",
    "    geneVariantList = []\n",
    "    for variable in ad.obs.index:\n",
    "        if (targetGene.lower() in variable.lower() \\\n",
    "            or variable.lower() in targetGene.lower()):\n",
    "            geneVariantList.append((targetGene, variable))\n",
    "                \n",
    "    if targetGene not in [v[0] for v in geneVariantList]:\n",
    "        geneVariantList.append((targetGene, 'NONE'))\n",
    "        \n",
    "    return geneVariantList\n",
    "        \n",
    "print(getGeneVariantList('HepaCAM1'))\n",
    "print(getGeneVariantList('HepaCAM'))"
   ]
  },
  {
   "cell_type": "markdown",
   "metadata": {},
   "source": [
    "In the block below, a dictionary of lists of tuples is returned where genes in the target list are variants of the names in the dataset, as per getGeneVariantList."
   ]
  },
  {
   "cell_type": "code",
   "execution_count": null,
   "metadata": {},
   "outputs": [],
   "source": [
    "geneVariantDict = {}\n",
    "for targetGene in geneList:\n",
    "    geneVariantDict[targetGene] = getGeneVariantList(targetGene)\n",
    "\n",
    "for key in allGeneVariants.keys():\n",
    "    print(geneVariantDict[key])\n",
    "    \n",
    "#print(allGeneVariants)"
   ]
  }
 ],
 "metadata": {
  "kernelspec": {
   "display_name": "Python 3",
   "language": "python",
   "name": "python3"
  },
  "language_info": {
   "codemirror_mode": {
    "name": "ipython",
    "version": 3
   },
   "file_extension": ".py",
   "mimetype": "text/x-python",
   "name": "python",
   "nbconvert_exporter": "python",
   "pygments_lexer": "ipython3",
   "version": "3.7.6"
  }
 },
 "nbformat": 4,
 "nbformat_minor": 4
}
